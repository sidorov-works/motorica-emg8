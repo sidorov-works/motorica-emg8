{
 "cells": [
  {
   "cell_type": "markdown",
   "metadata": {},
   "source": [
    "## Импорт"
   ]
  },
  {
   "cell_type": "code",
   "execution_count": 1,
   "metadata": {},
   "outputs": [],
   "source": [
    "# Работа с табличными данными\n",
    "\n",
    "import pandas as pd\n",
    "import numpy as np\n",
    "\n",
    "\n",
    "# Визуализация\n",
    "\n",
    "import plotly.express as px\n",
    "import plotly.io as pio\n",
    "pio.templates.default = 'plotly_white'\n",
    "pio.renderers.default = 'notebook'\n",
    "from motorica.emg8.utils import fig_montage # кастомная функция визуализации\n",
    "\n",
    "\n",
    "# Пайплайн\n",
    "\n",
    "# константы\n",
    "from motorica.emg8.constants import *\n",
    "# чтение данных и разметка по фактическим жестам\n",
    "from motorica.emg8.markers import TransMarker, BaseMarker, FullMarker\n",
    "from motorica.emg8.pipeline import read_emg8, score_montages\n",
    "# создание экземпляра пайплайна\n",
    "from motorica.emg8.pipeline import create_logreg_pipeline\n",
    "\n",
    "\n",
    "# Метрики\n",
    "from sklearn.metrics import classification_report, f1_score\n",
    "from motorica.emg8.pipeline import f1_score_shifted, get_total_shift, shift_target\n",
    "\n",
    "\n",
    "# Для вывода докстрингов с форматированием markdown\n",
    "from IPython.display import Markdown as md\n",
    "\n",
    "# Работа с файлами\n",
    "import os\n",
    "\n",
    "# Для оценки скорости инференса\n",
    "from time import time\n",
    "\n",
    "# Сериализация модели (пайплайна)\n",
    "import pickle"
   ]
  },
  {
   "cell_type": "markdown",
   "metadata": {},
   "source": [
    "## Разметка данных"
   ]
  },
  {
   "cell_type": "markdown",
   "metadata": {},
   "source": [
    "### Исходные данные"
   ]
  },
  {
   "cell_type": "code",
   "execution_count": null,
   "metadata": {},
   "outputs": [],
   "source": [
    "# Папка с файлами данных\n",
    "DATA_DIR = 'data/plt_mb/all'\n",
    "# DATA_DIR = 'data/plt_2'\n",
    "# DATA_DIR = 'data/meeting'\n",
    "# DATA_DIR = 'data/plt_misc'\n",
    "\n",
    "montages = sorted(filter(lambda f: f.endswith('.emg8'), os.listdir(DATA_DIR)))\n",
    "montages"
   ]
  },
  {
   "cell_type": "code",
   "execution_count": null,
   "metadata": {},
   "outputs": [],
   "source": [
    "montage = montages[0]\n",
    "full_path = os.path.join(DATA_DIR, montage)\n",
    "gestures_raw = pd.read_csv(full_path, sep=' ')\n",
    "fig_montage(\n",
    "    gestures_raw[OMG_CH], y_cmd=gestures_raw['id'], \n",
    "    title=f\"<i>{full_path}</i> – исходные данные\"\n",
    ").show()"
   ]
  },
  {
   "cell_type": "code",
   "execution_count": null,
   "metadata": {},
   "outputs": [],
   "source": [
    "gestures_omg = gestures_raw[OMG_CH]\n",
    "from motorica.emg8.pipeline import NoiseReduction\n",
    "gestures_smth = NoiseReduction(5).fit_transform(gestures_omg.to_numpy())\n",
    "\n",
    "fig_montage(\n",
    "    gestures_smth, y_cmd=gestures_raw['id'], \n",
    "    title=f\"<i>{full_path}</i> – исходные данные\"\n",
    ").show()"
   ]
  },
  {
   "cell_type": "code",
   "execution_count": null,
   "metadata": {},
   "outputs": [],
   "source": [
    "from motorica.emg8.pipeline import Gradients, RatioToPrev, DiffWithPrev\n",
    "\n",
    "fig_montage(\n",
    "    DiffWithPrev(150, oper='add', avg='median').fit_transform(gestures_smth), y_cmd=gestures_raw['id'], \n",
    "    title=f\"<i>{full_path}</i> – исходные данные\"\n",
    ").show()"
   ]
  },
  {
   "cell_type": "markdown",
   "metadata": {},
   "source": [
    "### Разметка по классам основных жестов"
   ]
  },
  {
   "cell_type": "code",
   "execution_count": null,
   "metadata": {},
   "outputs": [],
   "source": [
    "n_holdout_groups = 1 # отложенная выборка - последний цикл протокола\n",
    "\n",
    "marker = BaseMarker(use_peaks='std', bounds_shift=0)\n",
    "\n",
    "X_train, X_test, y_train, y_test, cv_groups, gestures = read_emg8(\n",
    "    montage, dir=DATA_DIR,\n",
    "    n_holdout_groups=n_holdout_groups,\n",
    "    marker=marker\n",
    ")\n",
    "\n",
    "last_train_idx = gestures[GROUP_COL].drop_duplicates().index[-n_holdout_groups] - 1\n",
    "\n",
    "print('X_train shape:', X_train.shape)\n",
    "print('y_train shape:', y_train.shape)\n",
    "print('X_test shape:', X_test.shape)\n",
    "print('y_test shape:', y_test.shape)\n",
    "\n",
    "GESTURES = marker.states.index\n",
    "\n",
    "display(marker.states)\n",
    "\n",
    "fig_montage(\n",
    "    gestures[OMG_CH], \n",
    "    y_cmd=gestures[CMD_COL], \n",
    "    y_act=gestures[TARGET],\n",
    "    protocol_cycle=gestures[GROUP_COL],\n",
    "    # grad2 = marker.grad2 * 10,\n",
    "    # std_grad = marker.std1 / 4,\n",
    "    # std_grad_ups = marker.peaks_std1 / 4,\n",
    "    # std_grad_downs = marker.peaks_std1_neg / 4,\n",
    "    title=f\"<i>{full_path}</i> – разметка по фактическим границам жестов\"\n",
    ").show()"
   ]
  },
  {
   "cell_type": "markdown",
   "metadata": {},
   "source": [
    "### Разметка расширенным набором классов: жесты и переходы"
   ]
  },
  {
   "cell_type": "code",
   "execution_count": null,
   "metadata": {},
   "outputs": [],
   "source": [
    "n_holdout_groups = 1\n",
    "\n",
    "full_marker = FullMarker(use_peaks='std', bounds_shift=0)\n",
    "\n",
    "X_train_full, X_test_full, y_train_full, y_test_full, cv_groups_full, gestures_full= read_emg8(\n",
    "    montage, dir=DATA_DIR,\n",
    "    n_holdout_groups=1,\n",
    "    marker=full_marker\n",
    ")\n",
    "\n",
    "last_train_idx_full = gestures_full[GROUP_COL].drop_duplicates().index[-n_holdout_groups] - 1\n",
    "\n",
    "print('X_train shape:', X_train_full.shape)\n",
    "print('y_train shape:', y_train_full.shape)\n",
    "print('X_test shape:', X_test_full.shape)\n",
    "print('y_test shape:', y_test_full.shape)\n",
    "\n",
    "display(full_marker.states)\n",
    "\n",
    "fig_montage(\n",
    "    gestures_full[OMG_CH], \n",
    "    y_cmd_full=gestures_full[CMD_COL], \n",
    "    y_act=gestures_full[TARGET],\n",
    "    # std_grad = marker.std1 / 4,\n",
    "    # std_grad_downs = marker.peaks_std1_neg / 4,\n",
    "    # std_grad_ups = marker.peaks_std1 / 4,\n",
    "    protocol_cycle=gestures_full[GROUP_COL],\n",
    "    title=f\"<i>{full_path}</i> – разметка жестов с переходами\"\n",
    ")"
   ]
  },
  {
   "cell_type": "markdown",
   "metadata": {},
   "source": [
    "### Разметка только переходов"
   ]
  },
  {
   "cell_type": "code",
   "execution_count": null,
   "metadata": {},
   "outputs": [],
   "source": [
    "n_holdout_groups = 1\n",
    "\n",
    "trans_marker = TransMarker(use_peaks='std', bounds_shift=0)\n",
    "\n",
    "X_train_trans, X_test_trans, y_train_trans, y_test_trans, cv_groups_trans, gestures_trans= read_emg8(\n",
    "    montage, dir=DATA_DIR,\n",
    "    n_holdout_groups=1,\n",
    "    marker=trans_marker\n",
    ")\n",
    "\n",
    "last_train_idx_trans = gestures_trans[GROUP_COL].drop_duplicates().index[-n_holdout_groups] - 1\n",
    "\n",
    "print('X_train shape:', X_train_trans.shape)\n",
    "print('y_train shape:', y_train_trans.shape)\n",
    "print('X_test shape:', X_test_trans.shape)\n",
    "print('y_test shape:', y_test_trans.shape)\n",
    "\n",
    "display(trans_marker.states)\n",
    "\n",
    "fig_montage(\n",
    "    gestures_trans[OMG_CH], \n",
    "    y_cmd=gestures_trans[CMD_COL], \n",
    "    y_act=gestures_trans[TARGET],\n",
    "    protocol_cycle=gestures_trans[GROUP_COL],\n",
    "    title=f\"<i>{full_path}</i> – разметка только переходов\"\n",
    ").show()"
   ]
  },
  {
   "cell_type": "markdown",
   "metadata": {},
   "source": [
    "## Отбор данных"
   ]
  },
  {
   "cell_type": "markdown",
   "metadata": {},
   "source": [
    "### Кросс-валидация размеченных данных с помощью логистической регерессии"
   ]
  },
  {
   "cell_type": "code",
   "execution_count": 9,
   "metadata": {},
   "outputs": [],
   "source": [
    "montages_cv_scores = score_montages(DATA_DIR)"
   ]
  },
  {
   "cell_type": "code",
   "execution_count": null,
   "metadata": {},
   "outputs": [],
   "source": [
    "fig = px.bar(\n",
    "    montages_cv_scores.round(2), \n",
    "    width=700, height=400,\n",
    "    color=montages_cv_scores,\n",
    "    # color_continuous_scale='RdBu',\n",
    "    color_continuous_scale=[(0, \"indianred\"), (CV_SCORE_OK, \"indianred\"), (1, \"royalblue\")],\n",
    "    range_color=[0, 1],\n",
    "    title=f'F1-macro на кросс-валидации размеченных монтажей: <i>{DATA_DIR}</i>',\n",
    "    labels={'value': 'f1 macro', 'index': ''},\n",
    "    orientation='h',\n",
    "    text_auto=True\n",
    ")\n",
    "fig.update_coloraxes(showscale=False)\n",
    "fig.update_layout(margin=dict(t=70))\n",
    "fig.show()"
   ]
  },
  {
   "cell_type": "markdown",
   "metadata": {},
   "source": [
    "## Проверка для каждого монтажа на тестовых данных"
   ]
  },
  {
   "cell_type": "code",
   "execution_count": null,
   "metadata": {},
   "outputs": [],
   "source": [
    "all_montages = sorted(filter(lambda f: f.endswith('.emg8'), os.listdir('data/all')))\n",
    "all_scores = []\n",
    "model, _ = create_logreg_pipeline()\n",
    "shift = get_total_shift(model)\n",
    "for montage in all_montages:\n",
    "    scores = []\n",
    "    for marker in [BaseMarker, FullMarker]:\n",
    "        X_train, X_test, y_train, y_test, cv_groups, _ = read_emg8(montage, 'data/all', n_holdout_groups=1)\n",
    "        model.fit(X_train, y_train)\n",
    "        y_pred_train = model.predict(X_train)\n",
    "        y_pred_test = model.predict(X_test)\n",
    "        scores.append((\n",
    "            f1_score_shifted(y_train, y_pred_train, shift),\n",
    "            f1_score_shifted(y_test, y_pred_test, shift)\n",
    "        ))"
   ]
  },
  {
   "cell_type": "code",
   "execution_count": null,
   "metadata": {},
   "outputs": [],
   "source": [
    "scores = pd.DataFrame(\n",
    "    scores, \n",
    "    index=all_montages, \n",
    "    columns=['f1 train (BaseMarker)', 'f1 test (BaseMarker)', 'f1 train (FullMarker)', 'f1 test (FullMarker)'])\n",
    "scores"
   ]
  },
  {
   "cell_type": "code",
   "execution_count": null,
   "metadata": {},
   "outputs": [],
   "source": []
  },
  {
   "cell_type": "markdown",
   "metadata": {},
   "source": [
    "## Оффлайн инференс на отложенной выборке"
   ]
  },
  {
   "cell_type": "code",
   "execution_count": null,
   "metadata": {},
   "outputs": [],
   "source": [
    "model, score = create_logreg_pipeline()\n",
    "from pprint import pprint\n",
    "pprint(model.get_params())\n",
    "model\n",
    "# # сохранение пайплайна (сериализация)\n",
    "# with open('pipeline_logreg.pkl', 'wb') as f:\n",
    "#     pickle.dump(model, f)\n",
    "\n",
    "# # восстановление пайплайна из файла\n",
    "# with open('pipeline_logreg.pkl', 'rb') as f:\n",
    "#     model = pickle.load(f)"
   ]
  },
  {
   "cell_type": "markdown",
   "metadata": {},
   "source": [
    "### Только основные классы (без разметки переходов)"
   ]
  },
  {
   "cell_type": "code",
   "execution_count": null,
   "metadata": {},
   "outputs": [],
   "source": [
    "# Без разметки и предсказания переходов\n",
    "\n",
    "model.set_params(model__use_trans='ignore')\n",
    "model.fit(X_train, y_train)\n",
    "\n",
    "y_test_pred = np.empty(0)\n",
    "comp_durations = np.empty(0)\n",
    "\n",
    "for i in range(X_test.shape[0]):\n",
    "    start_time = time()\n",
    "    y_test_pred = np.append(y_test_pred, model.predict(X_test[i]))\n",
    "    comp_duration = time() - start_time\n",
    "    comp_durations = np.append(comp_durations, comp_duration)\n",
    "\n",
    "print(f\"Максимальное время: {np.round(comp_durations.max() * 1000, 2)} мс\")\n",
    "print(f\"Среднее время: {np.round(comp_durations.mean() * 1000, 2)} мс\")\n",
    "\n",
    "# print(classification_report(y_test, y_test_pred, target_names=marker.states.index, zero_division=0))\n",
    "\n",
    "print(classification_report(\n",
    "    y_true = shift_target(y_test, get_total_shift(model)), \n",
    "    y_pred = y_test_pred, \n",
    "    target_names=marker.states.index, \n",
    "    zero_division=0\n",
    "))\n",
    "\n",
    "fig = fig_montage(\n",
    "    pd.DataFrame(X_test), \n",
    "    y_cmd=gestures.loc[last_train_idx + 1:, CMD_COL].reset_index(drop=True), \n",
    "    # y_true=y_test, \n",
    "    y_pred=y_test_pred,\n",
    "    title=f\"{full_path}<br>Результаты предсказаний в инференсе <b>без использования переходов</b>\"\n",
    ")\n",
    "fig.show()"
   ]
  },
  {
   "cell_type": "markdown",
   "metadata": {},
   "source": [
    "### Предсказание основных классов, но с использованием разметки переходов"
   ]
  },
  {
   "cell_type": "code",
   "execution_count": null,
   "metadata": {},
   "outputs": [],
   "source": [
    "# С использованием дополнительных классов переходов\n",
    "\n",
    "model.set_params(model__use_trans='drop')\n",
    "model.fit(X_train_full, y_train_full)\n",
    "\n",
    "y_test_full[y_test_full < 0] = 0\n",
    "y_test_full %= 10\n",
    "\n",
    "y_test_pred = np.empty(0)\n",
    "comp_durations = np.empty(0)\n",
    "\n",
    "for i in range(X_test_full.shape[0]):\n",
    "    start_time = time()\n",
    "    y_test_pred = np.append(y_test_pred, model.predict(X_test_full[i]))\n",
    "    comp_duration = time() - start_time\n",
    "    comp_durations = np.append(comp_durations, comp_duration)\n",
    "\n",
    "print(f\"Максимальное время: {np.round(comp_durations.max() * 1000, 2)} мс\")\n",
    "print(f\"Среднее время: {np.round(comp_durations.mean() * 1000, 2)} мс\")\n",
    "\n",
    "print(classification_report(\n",
    "    y_true = shift_target(y_test_full, get_total_shift(model)), \n",
    "    y_pred = y_test_pred, \n",
    "    target_names=GESTURES, \n",
    "    zero_division=0\n",
    "))\n",
    "\n",
    "fig = fig_montage(\n",
    "    pd.DataFrame(X_test_full), \n",
    "    y_cmd=gestures_full.loc[last_train_idx_full + 1:, CMD_COL].reset_index(drop=True), \n",
    "    # y_true=y_test_full, \n",
    "    y_pred=y_test_pred,\n",
    "    title=f\"{full_path}<br>Результаты предсказаний в инференсе <b>с использованием дополнительных классов переходов</b>\"\n",
    ")\n",
    "# fig.update_xaxes(visible=False)\n",
    "# fig.update_yaxes(visible=False)\n",
    "fig.show()"
   ]
  },
  {
   "cell_type": "markdown",
   "metadata": {},
   "source": [
    "### Предсказание только переходов"
   ]
  },
  {
   "cell_type": "code",
   "execution_count": null,
   "metadata": {},
   "outputs": [],
   "source": [
    "# С предсказанием только переходов\n",
    "\n",
    "model.set_params(model__use_trans='keep', gradients__oper='replace')\n",
    "model.fit(X_train_trans, y_train_trans)\n",
    "\n",
    "y_test_pred = np.empty(0)\n",
    "comp_durations = np.empty(0)\n",
    "\n",
    "for i in range(X_test_trans.shape[0]):\n",
    "    start_time = time()\n",
    "    y_test_pred = np.append(y_test_pred, model.predict(X_test_trans[i]))\n",
    "    comp_duration = time() - start_time\n",
    "    comp_durations = np.append(comp_durations, comp_duration)\n",
    "\n",
    "print(f\"Максимальное время: {np.round(comp_durations.max() * 1000, 2)} мс\")\n",
    "print(f\"Среднее время: {np.round(comp_durations.mean() * 1000, 2)} мс\")\n",
    "\n",
    "print(classification_report(\n",
    "    y_true = shift_target(y_test_trans, get_total_shift(model)), \n",
    "    y_pred = y_test_pred, \n",
    "    target_names=trans_marker.states.index, \n",
    "    zero_division=0\n",
    "))\n",
    "\n",
    "fig = fig_montage(\n",
    "    pd.DataFrame(X_test_trans), \n",
    "    y_cmd=gestures.loc[last_train_idx_trans + 1:, CMD_COL].reset_index(drop=True), \n",
    "    y_true=y_test_trans, y_pred=y_test_pred,\n",
    "    title=f\"{full_path}<br>Результаты предсказаний в инференсе <b>с предсказанием только переходов</b>\"\n",
    ")\n",
    "fig.show()"
   ]
  },
  {
   "cell_type": "markdown",
   "metadata": {},
   "source": [
    "## Генерализация модели на все монтажи пилота"
   ]
  },
  {
   "cell_type": "code",
   "execution_count": null,
   "metadata": {},
   "outputs": [],
   "source": [
    "model, _ = create_logreg_pipeline(\n",
    "    gradients__n_lags=7,\n",
    ")\n",
    "\n",
    "X_train_all = np.empty((0, N_OMG_CH))\n",
    "X_test_all = np.empty((0, N_OMG_CH))\n",
    "y_train_all = np.empty(0)\n",
    "y_test_all = np.empty(0)\n",
    "\n",
    "# marker = TransMarker(use_peaks='std', bounds_shift=0)\n",
    "marker = FullMarker(use_peaks='std', bounds_shift=0)\n",
    "\n",
    "for montage in montages:\n",
    "    if montages_cv_scores[montage] < CV_SCORE_OK:\n",
    "        continue\n",
    "    X_train, X_test, y_train, y_test, *_ = read_emg8(montage, dir=DATA_DIR, marker=marker, n_holdout_groups=1)\n",
    "    X_train_all = np.vstack([X_train_all, X_train])\n",
    "    X_test_all = np.vstack([X_test_all, X_test])\n",
    "    y_train_all = np.hstack([y_train_all, y_train])\n",
    "    y_test_all = np.hstack([y_test_all, y_test])\n",
    "\n",
    "model.fit(X_train_all, y_train_all)"
   ]
  },
  {
   "cell_type": "code",
   "execution_count": 16,
   "metadata": {},
   "outputs": [],
   "source": [
    "y_pred_all = model.predict(X_test_all)\n",
    "y_test_all[y_test_all < 0] = 0\n",
    "y_test_all %= 10\n",
    "y_test_all = shift_target(y_test_all, get_total_shift(model))"
   ]
  },
  {
   "cell_type": "code",
   "execution_count": null,
   "metadata": {},
   "outputs": [],
   "source": [
    "print(classification_report(y_test_all, y_pred_all, target_names=GESTURES))"
   ]
  },
  {
   "cell_type": "code",
   "execution_count": null,
   "metadata": {},
   "outputs": [],
   "source": [
    "fig_montage(X_test_all, y_true=y_test_all, y_pred=y_pred_all)"
   ]
  },
  {
   "cell_type": "markdown",
   "metadata": {},
   "source": [
    "---"
   ]
  },
  {
   "cell_type": "code",
   "execution_count": 19,
   "metadata": {},
   "outputs": [],
   "source": [
    "# # # marker = TransMarker(use_peaks='std', bounds_shift=0)\n",
    "\n",
    "# model, _ = create_logreg_pipeline(\n",
    "#     gradients__n_lags=4,\n",
    "# )\n",
    "\n",
    "# marker = FullMarker(use_peaks='std', bounds_shift=0)\n",
    "\n",
    "# for holdout_montage in montages:\n",
    "\n",
    "#     X_train_all = np.empty((0, N_OMG_CH))\n",
    "#     y_train_all = np.empty(0)\n",
    "\n",
    "#     X_test_all, _, y_test_all, *_ = read_emg8(holdout_montage, dir=DATA_DIR, marker=marker, n_holdout_groups=0)\n",
    "\n",
    "#     for montage in montages:\n",
    "#         if montage == holdout_montage:\n",
    "#             continue\n",
    "#         X_train, _, y_train, *_ = read_emg8(montage, dir=DATA_DIR, marker=marker, n_holdout_groups=0)\n",
    "#         X_train_all = np.vstack([X_train_all, X_train])\n",
    "#         y_train_all = np.hstack([y_train_all, y_train])\n",
    "\n",
    "#     model.fit(X_train_all, y_train_all)\n",
    "\n",
    "#     y_pred_all = model.predict(X_test_all)\n",
    "#     y_test_all[y_test_all < 0] = 0\n",
    "#     y_test_all %= 10\n",
    "#     y_test_all = shift_target(y_test_all, get_total_shift(model))\n",
    "#     print(holdout_montage)\n",
    "#     print(classification_report(y_test_all, y_pred_all, target_names=GESTURES))\n",
    "\n",
    "#     fig_montage(X_test_all, y_true=y_test_all, y_pred=y_pred_all).write_html(holdout_montage + '.html')"
   ]
  }
 ],
 "metadata": {
  "kernelspec": {
   "display_name": "venv",
   "language": "python",
   "name": "python3"
  },
  "language_info": {
   "codemirror_mode": {
    "name": "ipython",
    "version": 3
   },
   "file_extension": ".py",
   "mimetype": "text/x-python",
   "name": "python",
   "nbconvert_exporter": "python",
   "pygments_lexer": "ipython3",
   "version": "3.11.2"
  }
 },
 "nbformat": 4,
 "nbformat_minor": 2
}
